{
  "nbformat": 4,
  "nbformat_minor": 0,
  "metadata": {
    "colab": {
      "provenance": [],
      "toc_visible": true
    },
    "kernelspec": {
      "name": "python3",
      "display_name": "Python 3"
    },
    "language_info": {
      "name": "python"
    }
  },
  "cells": [
    {
      "cell_type": "markdown",
      "source": [
        "# 1. Naive Bayes"
      ],
      "metadata": {
        "id": "7q_Bb4yFHL4e"
      }
    },
    {
      "cell_type": "markdown",
      "source": [
        "## 1.1. Giới thiệu"
      ],
      "metadata": {
        "id": "SSPsoPoVHaOZ"
      }
    },
    {
      "cell_type": "markdown",
      "source": [
        "Thuật toán Naive Bayes là một nhóm các thuật toán phân loại dựa trên Định lý Bayes, đặc biệt phù hợp với các bài toán phân loại văn bản, như lọc email spam, phân loại tài liệu, và phân tích tình cảm. Naive Bayes được gọi là \"naive\" (ngây thơ) vì giả định rằng các đặc trưng (features) của dữ liệu là độc lập với nhau."
      ],
      "metadata": {
        "id": "o50-6fktHg0R"
      }
    },
    {
      "cell_type": "markdown",
      "source": [
        "Là các phương pháp học phân lớp có giám sát và dựa trên một mô hình (hàm) xác suất. Việc phân loại dựa trên các giá trị xác suất của các khả năng\n",
        "xảy ra của các giả thiết. Thuật toán dựa trên định lý Bayes (Bayes theorem)"
      ],
      "metadata": {
        "id": "Hom0EJFXHq9Z"
      }
    },
    {
      "cell_type": "markdown",
      "source": [
        "## 1.2. Định lý Bayes"
      ],
      "metadata": {
        "id": "JVkzLkt7H_EZ"
      }
    },
    {
      "cell_type": "markdown",
      "source": [
        "\\begin{equation}\n",
        "    P(h|D) = \\frac{P(D|h)*P(h)}{P(D)}\n",
        "\\end{equation}\n",
        "\n",
        "  - Trong đó:\n",
        "\n",
        "    - $P(D)$: Xác suất trước (tiên nghiệm) của việc quan sát được dữ liệu $D$\n",
        "\n",
        "    - $P(h)$: Xác suất trước (tiên nghiệm) của giả thiết $h$\n",
        "\n",
        "    - $P(D|h)$: Xác suất xảy ra của dữ liệu $D$, nếu biết giả thiết $h$ là đúng.\n",
        "\n",
        "    - $P(h|D)$: Xác suất (hậu nghiệm) của giả thiết $h$ là đúng, nếu quan sát được dữ liệu $D$"
      ],
      "metadata": {
        "id": "8ujevKMjIDdh"
      }
    },
    {
      "cell_type": "markdown",
      "source": [
        "- Xác xuất hậu nghiệm cực đại (MAP):\n",
        "\n",
        "  Với một tập các giả thiết (các phân lớp) có thể $H$, hệ thống sẽ tìm giả\n",
        "thiết có thể xảy ra nhất $h$ đối với các dữ liệu quan sát được $D$. Nghĩa là tìm h sao cho $P(h|D)$ là max\n",
        "\n",
        "\\begin{equation}\n",
        "    h_{MAP} = \\text{argmax}_{h\\in H} P(h|D)\n",
        "\\end{equation}"
      ],
      "metadata": {
        "id": "_hWboVWcL_kd"
      }
    },
    {
      "cell_type": "markdown",
      "source": [
        "- Đánh giá khả năng có thể nhất (MLE)\n",
        "\n",
        "  Phương pháp MLE tìm giả thiết cực đại hóa giá trị $P(D|h)$; trong đó $P(D|h)$ được gọi là khả năng có thể (likelihood) của dữ liệu $D$ đối với $h$\n",
        "\n",
        "\\begin{equation}\n",
        "    h_{ML} = \\text{argmax}_{h\\in H} P(D|h)\n",
        "\\end{equation}\n",
        "\n"
      ],
      "metadata": {
        "id": "dcPgIHC9NRtG"
      }
    },
    {
      "cell_type": "markdown",
      "source": [
        "## 1.3. Định lý Bayes trong Naive Bayes"
      ],
      "metadata": {
        "id": "6tn4hCNOFKgK"
      }
    },
    {
      "cell_type": "markdown",
      "source": [
        "- Khi áp dụng định lý vào bài toán phân loại chúng ta có:\n",
        "\n",
        "  \\begin{equation}\n",
        "    P(C|X) = \\frac{P(X|C)*P(C)}{P(X)}\n",
        "  \\end{equation}\n",
        "\n",
        "  Trong đó:\n",
        "\n",
        "    -  $P(C|X)$ là xác suất lớp $C$ khi biết dữ liệu $X$\n",
        "    -  $P(X|C)$ là xác suất dữ liệu $X$ khi biết lớp $C$\n",
        "    -  $P(C)$ là xác suất tiên nghiệm của lớp $C$\n",
        "    -  $P(X)$ là xác suất tiên nghiệm của dữ liệu $X$\n",
        "\n",
        "  Vì $P(X)$ là hằng số với mọi lớp $C$, nên có thể bỏ qua khi so sánh các lớp với nhau\n",
        "\n",
        "  \\begin{equation}\n",
        "    P(C|X) = P(X|C)*P(C)\n",
        "  \\end{equation}\n",
        "\n",
        "  Naive Bayes cũng giả định các đặc trưng của dữ liệu là độc lập với nhau nên\n",
        "\n",
        "  \\begin{equation}\n",
        "    P(X|C) = P(x_1,x_2,x_3,...,x_n|C) = P(x_1|C).P(x_2|C).P(x_3|C)....P(x_n|C)\n",
        "  \\end{equation}\n",
        "\n",
        "    Với $x_1,x_2,x_3,...,x_n$ là các đặc trưng của dữ liệu $X$"
      ],
      "metadata": {
        "id": "08IW1t9oFPyT"
      }
    },
    {
      "cell_type": "markdown",
      "source": [
        "## 1.4. Các phân phối thường dùng cho $P(x_i|C)$"
      ],
      "metadata": {
        "id": "IT4q6_GOH-hz"
      }
    },
    {
      "cell_type": "markdown",
      "source": [
        "### 1.4.1. Bernoulli Naive Bayes\n"
      ],
      "metadata": {
        "id": "8FlZJtgiIDLq"
      }
    },
    {
      "cell_type": "markdown",
      "source": [
        "Bernoulli Naive Bayes thường được sử dụng cho các bài toán mà mỗi đặc trưng là nhị phân (binary), tức là có hoặc không. Ví dụ: phân loại email là spam (1) hoặc không phải spam (0) dựa trên các từ xuất hiện trong email."
      ],
      "metadata": {
        "id": "LYWYQ5t1IZ57"
      }
    },
    {
      "cell_type": "markdown",
      "source": [
        "Xác suất có điều kiện cho Bernoulli Naive Bayes được tính như sau:\n",
        "\n",
        "  \\begin{equation}\n",
        "    P(x_i|C) = P(x_i|C)^{x_i} . (1-P(x_i|C))^{(1-x_i)}\n",
        "  \\end{equation}"
      ],
      "metadata": {
        "id": "_3o-jAAfImCy"
      }
    },
    {
      "cell_type": "markdown",
      "source": [
        "### 1.4.2. Gausian Naive Bayes"
      ],
      "metadata": {
        "id": "m05t1MnkKrW2"
      }
    },
    {
      "cell_type": "markdown",
      "source": [
        "Gaussian Naive Bayes thường được sử dụng cho các đặc trưng có phân phối chuẩn (Gaussian), tức là các đặc trưng là dữ liệu liên tục. Ví dụ: phân loại chẩn đoán bệnh dựa trên các chỉ số sinh lý của bệnh nhân."
      ],
      "metadata": {
        "id": "ej0lH2_UKva_"
      }
    },
    {
      "cell_type": "markdown",
      "source": [
        "Xác suất có điều kiện cho Gausian Naive Bayes được tính:\n",
        "\n",
        "Với mỗi chiều dữ liệu $i$ và một class $c$, $x_i$ tuân theo một phân phối chuẩn có kỳ vọng $\\mu_{ci}$ và phương sai $\\sigma^2_{ci}$\n",
        "\n",
        "\\begin{equation}\n",
        "    P(x_i|C) = \\frac{1}{\\sqrt{2\\pi \\sigma^2_{ci}}} \\exp(-\\frac{(x_i - \\mu_{ci})^2}{2\\sigma^2_{ci}})\n",
        "\\end{equation}\n",
        "\n",
        "\n"
      ],
      "metadata": {
        "id": "Hlxlrs34K4UW"
      }
    },
    {
      "cell_type": "markdown",
      "source": [
        "### 1.4.3. Multinomial Naive Bayes"
      ],
      "metadata": {
        "id": "dpmZ4gE_N51i"
      }
    },
    {
      "cell_type": "markdown",
      "source": [
        "Multinomial Naive Bayes thường được sử dụng cho các bài toán phân loại văn bản, nơi mỗi đặc trưng là số lần xuất hiện của một từ trong tài liệu. Ví dụ: phân loại tin tức vào các chủ đề khác nhau dựa trên nội dung của các văn bản."
      ],
      "metadata": {
        "id": "kNYECBSaOB67"
      }
    },
    {
      "cell_type": "markdown",
      "source": [
        "Xác xuất có điều kiện cho Multinomial NAive Bayes:\n",
        "\n",
        "\\begin{equation}\n",
        "    P(x_i|C) = \\frac{count(x_i, C) + \\alpha}{\\sum_{x\\in V} count (x,C) + \\alpha.|V|}\n",
        "\\end{equation}\n",
        "\n",
        "Trong đó:\n",
        "\n",
        "- $count(x_i, C)$ là số làn xuất hiện của từ $x_i$ trong lớp $C$\n",
        "- $\\alpha$ là hệ số điều chỉnh (smoothing parameter) để tránh xác suất có điều kiện bằng 0.\n",
        "- $V$ là tập hợp tất cả các từ trong tập dữ liệu"
      ],
      "metadata": {
        "id": "ftdbIu06OKW_"
      }
    },
    {
      "cell_type": "markdown",
      "source": [
        "## 1.5. Quy trình của thuật toán Naive Bayes\n",
        "\n",
        "\n",
        "\n",
        "\n"
      ],
      "metadata": {
        "id": "pHh1DAHHOLri"
      }
    },
    {
      "cell_type": "markdown",
      "source": [
        "\n",
        "1.   Tính giá trị xác suất tiên nghiệm $P(C)$ cho mỗi phân lớp $C$\n",
        "2.   Tính giá trị xác suất của mỗi giá trị thuộc tính đối với mỗi phân lớp ($P(x_i|C)$)\n",
        "3.   Sử dụng các xác suất này để tính $P(C|X)$ cho mỗi lớp $C$\n",
        "4.   Xác định phân lớp có thể nhất - lớp có xác suất $P(C|X)$ cao nhất\n"
      ],
      "metadata": {
        "id": "kb7pBYFVDN63"
      }
    },
    {
      "cell_type": "markdown",
      "source": [
        "## 1.6. Ví dụ phân loại Naive Bayes"
      ],
      "metadata": {
        "id": "sZS6tWPXPdwV"
      }
    },
    {
      "cell_type": "markdown",
      "source": [
        "![image.png](data:image/png;base64,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)"
      ],
      "metadata": {
        "id": "TqottmgoP2SQ"
      }
    },
    {
      "cell_type": "markdown",
      "source": [
        "Câu hỏi là: Một sinh viên trẻ với thu nhập trung bình và mức đánh giá tín dụng bình thường sẽ mua một cái máy tính?"
      ],
      "metadata": {
        "id": "vUmkdbmGQCTK"
      }
    },
    {
      "cell_type": "markdown",
      "source": [
        "Biểu diễn bài toán phân loại:\n",
        "- z = (Age=Youth,Income=Medium,Student=Yes,Credit_Rating=Fair)\n",
        "- Có 2 phân lớp có thể: $c_1$ (“Mua máy tính”) và $c_2$ (“Không mua máy tính”)"
      ],
      "metadata": {
        "id": "Biebps6EQHoT"
      }
    },
    {
      "cell_type": "markdown",
      "source": [
        "\n",
        "1.   Tính giá trị xác suất tiên nghiệm $P(C)$ cho mỗi phân lớp $C$\n",
        "  - $P(c_1) = 9/14$\n",
        "  - $P(c_2) = 5/14$\n",
        "2.   Tính giá trị xác suất của mỗi giá trị thuộc tính đối với mỗi phân lớp ($P(x_i|C)$)\n",
        "  - Phân lớp $c_1$:\n",
        "      - $P(Age=Youth|c_1) = 2/9$;\n",
        "      - $P(Income=Medium|c_1) = 4/9$;\n",
        "      - $P(Student=Yes|c_1) = 6/9$;\n",
        "      - $P(Credit_Rating=Fair|c_1) = 6/9$;\n",
        "  - Phân lớp $c_2$:\n",
        "      - $P(Age=Youth|c_2) = 3/5$\n",
        "      - $P(Income=Medium|c_2) = 2/5$\n",
        "      - $P(Student=Yes|c_2) = 1/5$\n",
        "      - $P(Credit_Rating=Fair|c_2) = 2/5$\n",
        "3.   Sử dụng các xác suất này để tính $P(C|X)$ cho mỗi lớp $C$\n",
        "  - Đối với phân lớp $c_1$: $P(z|c_1) = 2/9 * 4/9 * 6/9 * 6/9 = 0.044$\n",
        "  - Đối với phân lớp $c_2$: $P(z|c_2) = 3/5 * 2/5 * 1/5 * 2/5 = 0.019$\n",
        "      \n",
        "4.   Xác định phân lớp có thể nhất - lớp có xác suất $P(C|X)$ cao nhất\n",
        "  - Đối với phân lớp $c_1$: $P(c_1).P(z|c_1) = (9/14).(0.044) = 0.028$\n",
        "  - Đối với phân lớp $c_2$: $P(c_2).P(z|c_2) = (5/14).(0.019) = 0.007$\n",
        "\n",
        "=> Sinh viên trẻ với thu nhập trung bình và mức đánh giá tin dụng bình thường sẽ mua một máy tính\n"
      ],
      "metadata": {
        "id": "JtlAFOHGQYHr"
      }
    },
    {
      "cell_type": "markdown",
      "source": [
        "# 2. Ví dụ minh họa"
      ],
      "metadata": {
        "id": "oYN5Eyjel9xq"
      }
    },
    {
      "cell_type": "markdown",
      "source": [
        "## 2.1. Import thư viện\n"
      ],
      "metadata": {
        "id": "9EhHNY3cmB6B"
      }
    },
    {
      "cell_type": "code",
      "source": [
        "import pandas as pd\n",
        "from sklearn.model_selection import train_test_split\n",
        "from sklearn.naive_bayes import GaussianNB\n",
        "from sklearn import metrics"
      ],
      "metadata": {
        "id": "WaMshmO-mTX3"
      },
      "execution_count": 1,
      "outputs": []
    },
    {
      "cell_type": "markdown",
      "source": [
        "## 2.2. Chuẩn bị dữ liệu"
      ],
      "metadata": {
        "id": "gdSrFFlum3Wx"
      }
    },
    {
      "cell_type": "code",
      "source": [
        "from google.colab import drive\n",
        "drive.mount('/content/drive')"
      ],
      "metadata": {
        "colab": {
          "base_uri": "https://localhost:8080/"
        },
        "id": "TbY-EXMWowuC",
        "outputId": "8965034c-6d4e-4502-d5a2-63d1e5563432"
      },
      "execution_count": 2,
      "outputs": [
        {
          "output_type": "stream",
          "name": "stdout",
          "text": [
            "Mounted at /content/drive\n"
          ]
        }
      ]
    },
    {
      "cell_type": "code",
      "source": [
        "nb = pd.read_csv(\"/content/drive/MyDrive/ColabNotebooks/diabetes.csv\")"
      ],
      "metadata": {
        "id": "JYmPjO-8m7HG"
      },
      "execution_count": 14,
      "outputs": []
    },
    {
      "cell_type": "code",
      "source": [
        "print(f\"Number of line: {nb.shape[0]}\")"
      ],
      "metadata": {
        "colab": {
          "base_uri": "https://localhost:8080/"
        },
        "id": "5fhX0xR-CQl9",
        "outputId": "4ed062fb-7ca1-4163-dafa-a4104f872aa1"
      },
      "execution_count": 15,
      "outputs": [
        {
          "output_type": "stream",
          "name": "stdout",
          "text": [
            "Number of line: 768\n"
          ]
        }
      ]
    },
    {
      "cell_type": "code",
      "source": [
        "nb.head()"
      ],
      "metadata": {
        "colab": {
          "base_uri": "https://localhost:8080/",
          "height": 206
        },
        "id": "d4IJ_DWXnAme",
        "outputId": "59933cf5-0027-44b9-bc1b-705f3b95ce6d"
      },
      "execution_count": 16,
      "outputs": [
        {
          "output_type": "execute_result",
          "data": {
            "text/plain": [
              "   Pregnancies  Glucose  BloodPressure  SkinThickness  Insulin   BMI  \\\n",
              "0            6      148             72             35        0  33.6   \n",
              "1            1       85             66             29        0  26.6   \n",
              "2            8      183             64              0        0  23.3   \n",
              "3            1       89             66             23       94  28.1   \n",
              "4            0      137             40             35      168  43.1   \n",
              "\n",
              "   DiabetesPedigreeFunction  Age  Outcome  \n",
              "0                     0.627   50        1  \n",
              "1                     0.351   31        0  \n",
              "2                     0.672   32        1  \n",
              "3                     0.167   21        0  \n",
              "4                     2.288   33        1  "
            ],
            "text/html": [
              "\n",
              "  <div id=\"df-431fdf40-c25d-4d58-a86b-65fdcfa3373e\" class=\"colab-df-container\">\n",
              "    <div>\n",
              "<style scoped>\n",
              "    .dataframe tbody tr th:only-of-type {\n",
              "        vertical-align: middle;\n",
              "    }\n",
              "\n",
              "    .dataframe tbody tr th {\n",
              "        vertical-align: top;\n",
              "    }\n",
              "\n",
              "    .dataframe thead th {\n",
              "        text-align: right;\n",
              "    }\n",
              "</style>\n",
              "<table border=\"1\" class=\"dataframe\">\n",
              "  <thead>\n",
              "    <tr style=\"text-align: right;\">\n",
              "      <th></th>\n",
              "      <th>Pregnancies</th>\n",
              "      <th>Glucose</th>\n",
              "      <th>BloodPressure</th>\n",
              "      <th>SkinThickness</th>\n",
              "      <th>Insulin</th>\n",
              "      <th>BMI</th>\n",
              "      <th>DiabetesPedigreeFunction</th>\n",
              "      <th>Age</th>\n",
              "      <th>Outcome</th>\n",
              "    </tr>\n",
              "  </thead>\n",
              "  <tbody>\n",
              "    <tr>\n",
              "      <th>0</th>\n",
              "      <td>6</td>\n",
              "      <td>148</td>\n",
              "      <td>72</td>\n",
              "      <td>35</td>\n",
              "      <td>0</td>\n",
              "      <td>33.6</td>\n",
              "      <td>0.627</td>\n",
              "      <td>50</td>\n",
              "      <td>1</td>\n",
              "    </tr>\n",
              "    <tr>\n",
              "      <th>1</th>\n",
              "      <td>1</td>\n",
              "      <td>85</td>\n",
              "      <td>66</td>\n",
              "      <td>29</td>\n",
              "      <td>0</td>\n",
              "      <td>26.6</td>\n",
              "      <td>0.351</td>\n",
              "      <td>31</td>\n",
              "      <td>0</td>\n",
              "    </tr>\n",
              "    <tr>\n",
              "      <th>2</th>\n",
              "      <td>8</td>\n",
              "      <td>183</td>\n",
              "      <td>64</td>\n",
              "      <td>0</td>\n",
              "      <td>0</td>\n",
              "      <td>23.3</td>\n",
              "      <td>0.672</td>\n",
              "      <td>32</td>\n",
              "      <td>1</td>\n",
              "    </tr>\n",
              "    <tr>\n",
              "      <th>3</th>\n",
              "      <td>1</td>\n",
              "      <td>89</td>\n",
              "      <td>66</td>\n",
              "      <td>23</td>\n",
              "      <td>94</td>\n",
              "      <td>28.1</td>\n",
              "      <td>0.167</td>\n",
              "      <td>21</td>\n",
              "      <td>0</td>\n",
              "    </tr>\n",
              "    <tr>\n",
              "      <th>4</th>\n",
              "      <td>0</td>\n",
              "      <td>137</td>\n",
              "      <td>40</td>\n",
              "      <td>35</td>\n",
              "      <td>168</td>\n",
              "      <td>43.1</td>\n",
              "      <td>2.288</td>\n",
              "      <td>33</td>\n",
              "      <td>1</td>\n",
              "    </tr>\n",
              "  </tbody>\n",
              "</table>\n",
              "</div>\n",
              "    <div class=\"colab-df-buttons\">\n",
              "\n",
              "  <div class=\"colab-df-container\">\n",
              "    <button class=\"colab-df-convert\" onclick=\"convertToInteractive('df-431fdf40-c25d-4d58-a86b-65fdcfa3373e')\"\n",
              "            title=\"Convert this dataframe to an interactive table.\"\n",
              "            style=\"display:none;\">\n",
              "\n",
              "  <svg xmlns=\"http://www.w3.org/2000/svg\" height=\"24px\" viewBox=\"0 -960 960 960\">\n",
              "    <path d=\"M120-120v-720h720v720H120Zm60-500h600v-160H180v160Zm220 220h160v-160H400v160Zm0 220h160v-160H400v160ZM180-400h160v-160H180v160Zm440 0h160v-160H620v160ZM180-180h160v-160H180v160Zm440 0h160v-160H620v160Z\"/>\n",
              "  </svg>\n",
              "    </button>\n",
              "\n",
              "  <style>\n",
              "    .colab-df-container {\n",
              "      display:flex;\n",
              "      gap: 12px;\n",
              "    }\n",
              "\n",
              "    .colab-df-convert {\n",
              "      background-color: #E8F0FE;\n",
              "      border: none;\n",
              "      border-radius: 50%;\n",
              "      cursor: pointer;\n",
              "      display: none;\n",
              "      fill: #1967D2;\n",
              "      height: 32px;\n",
              "      padding: 0 0 0 0;\n",
              "      width: 32px;\n",
              "    }\n",
              "\n",
              "    .colab-df-convert:hover {\n",
              "      background-color: #E2EBFA;\n",
              "      box-shadow: 0px 1px 2px rgba(60, 64, 67, 0.3), 0px 1px 3px 1px rgba(60, 64, 67, 0.15);\n",
              "      fill: #174EA6;\n",
              "    }\n",
              "\n",
              "    .colab-df-buttons div {\n",
              "      margin-bottom: 4px;\n",
              "    }\n",
              "\n",
              "    [theme=dark] .colab-df-convert {\n",
              "      background-color: #3B4455;\n",
              "      fill: #D2E3FC;\n",
              "    }\n",
              "\n",
              "    [theme=dark] .colab-df-convert:hover {\n",
              "      background-color: #434B5C;\n",
              "      box-shadow: 0px 1px 3px 1px rgba(0, 0, 0, 0.15);\n",
              "      filter: drop-shadow(0px 1px 2px rgba(0, 0, 0, 0.3));\n",
              "      fill: #FFFFFF;\n",
              "    }\n",
              "  </style>\n",
              "\n",
              "    <script>\n",
              "      const buttonEl =\n",
              "        document.querySelector('#df-431fdf40-c25d-4d58-a86b-65fdcfa3373e button.colab-df-convert');\n",
              "      buttonEl.style.display =\n",
              "        google.colab.kernel.accessAllowed ? 'block' : 'none';\n",
              "\n",
              "      async function convertToInteractive(key) {\n",
              "        const element = document.querySelector('#df-431fdf40-c25d-4d58-a86b-65fdcfa3373e');\n",
              "        const dataTable =\n",
              "          await google.colab.kernel.invokeFunction('convertToInteractive',\n",
              "                                                    [key], {});\n",
              "        if (!dataTable) return;\n",
              "\n",
              "        const docLinkHtml = 'Like what you see? Visit the ' +\n",
              "          '<a target=\"_blank\" href=https://colab.research.google.com/notebooks/data_table.ipynb>data table notebook</a>'\n",
              "          + ' to learn more about interactive tables.';\n",
              "        element.innerHTML = '';\n",
              "        dataTable['output_type'] = 'display_data';\n",
              "        await google.colab.output.renderOutput(dataTable, element);\n",
              "        const docLink = document.createElement('div');\n",
              "        docLink.innerHTML = docLinkHtml;\n",
              "        element.appendChild(docLink);\n",
              "      }\n",
              "    </script>\n",
              "  </div>\n",
              "\n",
              "\n",
              "<div id=\"df-46bdeb28-f41d-4cf6-8578-12924a30dd37\">\n",
              "  <button class=\"colab-df-quickchart\" onclick=\"quickchart('df-46bdeb28-f41d-4cf6-8578-12924a30dd37')\"\n",
              "            title=\"Suggest charts\"\n",
              "            style=\"display:none;\">\n",
              "\n",
              "<svg xmlns=\"http://www.w3.org/2000/svg\" height=\"24px\"viewBox=\"0 0 24 24\"\n",
              "     width=\"24px\">\n",
              "    <g>\n",
              "        <path d=\"M19 3H5c-1.1 0-2 .9-2 2v14c0 1.1.9 2 2 2h14c1.1 0 2-.9 2-2V5c0-1.1-.9-2-2-2zM9 17H7v-7h2v7zm4 0h-2V7h2v10zm4 0h-2v-4h2v4z\"/>\n",
              "    </g>\n",
              "</svg>\n",
              "  </button>\n",
              "\n",
              "<style>\n",
              "  .colab-df-quickchart {\n",
              "      --bg-color: #E8F0FE;\n",
              "      --fill-color: #1967D2;\n",
              "      --hover-bg-color: #E2EBFA;\n",
              "      --hover-fill-color: #174EA6;\n",
              "      --disabled-fill-color: #AAA;\n",
              "      --disabled-bg-color: #DDD;\n",
              "  }\n",
              "\n",
              "  [theme=dark] .colab-df-quickchart {\n",
              "      --bg-color: #3B4455;\n",
              "      --fill-color: #D2E3FC;\n",
              "      --hover-bg-color: #434B5C;\n",
              "      --hover-fill-color: #FFFFFF;\n",
              "      --disabled-bg-color: #3B4455;\n",
              "      --disabled-fill-color: #666;\n",
              "  }\n",
              "\n",
              "  .colab-df-quickchart {\n",
              "    background-color: var(--bg-color);\n",
              "    border: none;\n",
              "    border-radius: 50%;\n",
              "    cursor: pointer;\n",
              "    display: none;\n",
              "    fill: var(--fill-color);\n",
              "    height: 32px;\n",
              "    padding: 0;\n",
              "    width: 32px;\n",
              "  }\n",
              "\n",
              "  .colab-df-quickchart:hover {\n",
              "    background-color: var(--hover-bg-color);\n",
              "    box-shadow: 0 1px 2px rgba(60, 64, 67, 0.3), 0 1px 3px 1px rgba(60, 64, 67, 0.15);\n",
              "    fill: var(--button-hover-fill-color);\n",
              "  }\n",
              "\n",
              "  .colab-df-quickchart-complete:disabled,\n",
              "  .colab-df-quickchart-complete:disabled:hover {\n",
              "    background-color: var(--disabled-bg-color);\n",
              "    fill: var(--disabled-fill-color);\n",
              "    box-shadow: none;\n",
              "  }\n",
              "\n",
              "  .colab-df-spinner {\n",
              "    border: 2px solid var(--fill-color);\n",
              "    border-color: transparent;\n",
              "    border-bottom-color: var(--fill-color);\n",
              "    animation:\n",
              "      spin 1s steps(1) infinite;\n",
              "  }\n",
              "\n",
              "  @keyframes spin {\n",
              "    0% {\n",
              "      border-color: transparent;\n",
              "      border-bottom-color: var(--fill-color);\n",
              "      border-left-color: var(--fill-color);\n",
              "    }\n",
              "    20% {\n",
              "      border-color: transparent;\n",
              "      border-left-color: var(--fill-color);\n",
              "      border-top-color: var(--fill-color);\n",
              "    }\n",
              "    30% {\n",
              "      border-color: transparent;\n",
              "      border-left-color: var(--fill-color);\n",
              "      border-top-color: var(--fill-color);\n",
              "      border-right-color: var(--fill-color);\n",
              "    }\n",
              "    40% {\n",
              "      border-color: transparent;\n",
              "      border-right-color: var(--fill-color);\n",
              "      border-top-color: var(--fill-color);\n",
              "    }\n",
              "    60% {\n",
              "      border-color: transparent;\n",
              "      border-right-color: var(--fill-color);\n",
              "    }\n",
              "    80% {\n",
              "      border-color: transparent;\n",
              "      border-right-color: var(--fill-color);\n",
              "      border-bottom-color: var(--fill-color);\n",
              "    }\n",
              "    90% {\n",
              "      border-color: transparent;\n",
              "      border-bottom-color: var(--fill-color);\n",
              "    }\n",
              "  }\n",
              "</style>\n",
              "\n",
              "  <script>\n",
              "    async function quickchart(key) {\n",
              "      const quickchartButtonEl =\n",
              "        document.querySelector('#' + key + ' button');\n",
              "      quickchartButtonEl.disabled = true;  // To prevent multiple clicks.\n",
              "      quickchartButtonEl.classList.add('colab-df-spinner');\n",
              "      try {\n",
              "        const charts = await google.colab.kernel.invokeFunction(\n",
              "            'suggestCharts', [key], {});\n",
              "      } catch (error) {\n",
              "        console.error('Error during call to suggestCharts:', error);\n",
              "      }\n",
              "      quickchartButtonEl.classList.remove('colab-df-spinner');\n",
              "      quickchartButtonEl.classList.add('colab-df-quickchart-complete');\n",
              "    }\n",
              "    (() => {\n",
              "      let quickchartButtonEl =\n",
              "        document.querySelector('#df-46bdeb28-f41d-4cf6-8578-12924a30dd37 button');\n",
              "      quickchartButtonEl.style.display =\n",
              "        google.colab.kernel.accessAllowed ? 'block' : 'none';\n",
              "    })();\n",
              "  </script>\n",
              "</div>\n",
              "\n",
              "    </div>\n",
              "  </div>\n"
            ],
            "application/vnd.google.colaboratory.intrinsic+json": {
              "type": "dataframe",
              "variable_name": "nb",
              "summary": "{\n  \"name\": \"nb\",\n  \"rows\": 768,\n  \"fields\": [\n    {\n      \"column\": \"Pregnancies\",\n      \"properties\": {\n        \"dtype\": \"number\",\n        \"std\": 3,\n        \"min\": 0,\n        \"max\": 17,\n        \"num_unique_values\": 17,\n        \"samples\": [\n          6,\n          1,\n          3\n        ],\n        \"semantic_type\": \"\",\n        \"description\": \"\"\n      }\n    },\n    {\n      \"column\": \"Glucose\",\n      \"properties\": {\n        \"dtype\": \"number\",\n        \"std\": 31,\n        \"min\": 0,\n        \"max\": 199,\n        \"num_unique_values\": 136,\n        \"samples\": [\n          151,\n          101,\n          112\n        ],\n        \"semantic_type\": \"\",\n        \"description\": \"\"\n      }\n    },\n    {\n      \"column\": \"BloodPressure\",\n      \"properties\": {\n        \"dtype\": \"number\",\n        \"std\": 19,\n        \"min\": 0,\n        \"max\": 122,\n        \"num_unique_values\": 47,\n        \"samples\": [\n          86,\n          46,\n          85\n        ],\n        \"semantic_type\": \"\",\n        \"description\": \"\"\n      }\n    },\n    {\n      \"column\": \"SkinThickness\",\n      \"properties\": {\n        \"dtype\": \"number\",\n        \"std\": 15,\n        \"min\": 0,\n        \"max\": 99,\n        \"num_unique_values\": 51,\n        \"samples\": [\n          7,\n          12,\n          48\n        ],\n        \"semantic_type\": \"\",\n        \"description\": \"\"\n      }\n    },\n    {\n      \"column\": \"Insulin\",\n      \"properties\": {\n        \"dtype\": \"number\",\n        \"std\": 115,\n        \"min\": 0,\n        \"max\": 846,\n        \"num_unique_values\": 186,\n        \"samples\": [\n          52,\n          41,\n          183\n        ],\n        \"semantic_type\": \"\",\n        \"description\": \"\"\n      }\n    },\n    {\n      \"column\": \"BMI\",\n      \"properties\": {\n        \"dtype\": \"number\",\n        \"std\": 7.884160320375446,\n        \"min\": 0.0,\n        \"max\": 67.1,\n        \"num_unique_values\": 248,\n        \"samples\": [\n          19.9,\n          31.0,\n          38.1\n        ],\n        \"semantic_type\": \"\",\n        \"description\": \"\"\n      }\n    },\n    {\n      \"column\": \"DiabetesPedigreeFunction\",\n      \"properties\": {\n        \"dtype\": \"number\",\n        \"std\": 0.3313285950127749,\n        \"min\": 0.078,\n        \"max\": 2.42,\n        \"num_unique_values\": 517,\n        \"samples\": [\n          1.731,\n          0.426,\n          0.138\n        ],\n        \"semantic_type\": \"\",\n        \"description\": \"\"\n      }\n    },\n    {\n      \"column\": \"Age\",\n      \"properties\": {\n        \"dtype\": \"number\",\n        \"std\": 11,\n        \"min\": 21,\n        \"max\": 81,\n        \"num_unique_values\": 52,\n        \"samples\": [\n          60,\n          47,\n          72\n        ],\n        \"semantic_type\": \"\",\n        \"description\": \"\"\n      }\n    },\n    {\n      \"column\": \"Outcome\",\n      \"properties\": {\n        \"dtype\": \"number\",\n        \"std\": 0,\n        \"min\": 0,\n        \"max\": 1,\n        \"num_unique_values\": 2,\n        \"samples\": [\n          0,\n          1\n        ],\n        \"semantic_type\": \"\",\n        \"description\": \"\"\n      }\n    }\n  ]\n}"
            }
          },
          "metadata": {},
          "execution_count": 16
        }
      ]
    },
    {
      "cell_type": "code",
      "source": [
        "nb.info()"
      ],
      "metadata": {
        "colab": {
          "base_uri": "https://localhost:8080/"
        },
        "id": "dAmRV8puD6Yh",
        "outputId": "f05af099-1986-4e91-e09d-f30b0569e8be"
      },
      "execution_count": 17,
      "outputs": [
        {
          "output_type": "stream",
          "name": "stdout",
          "text": [
            "<class 'pandas.core.frame.DataFrame'>\n",
            "RangeIndex: 768 entries, 0 to 767\n",
            "Data columns (total 9 columns):\n",
            " #   Column                    Non-Null Count  Dtype  \n",
            "---  ------                    --------------  -----  \n",
            " 0   Pregnancies               768 non-null    int64  \n",
            " 1   Glucose                   768 non-null    int64  \n",
            " 2   BloodPressure             768 non-null    int64  \n",
            " 3   SkinThickness             768 non-null    int64  \n",
            " 4   Insulin                   768 non-null    int64  \n",
            " 5   BMI                       768 non-null    float64\n",
            " 6   DiabetesPedigreeFunction  768 non-null    float64\n",
            " 7   Age                       768 non-null    int64  \n",
            " 8   Outcome                   768 non-null    int64  \n",
            "dtypes: float64(2), int64(7)\n",
            "memory usage: 54.1 KB\n"
          ]
        }
      ]
    },
    {
      "cell_type": "code",
      "source": [
        "#split dataset in features and target variable\n",
        "feature_cols = ['Pregnancies', 'Insulin', 'BMI', 'Age', 'Glucose', 'BloodPressure', 'DiabetesPedigreeFunction']\n",
        "X = nb[feature_cols] # Features\n",
        "y = nb.Outcome # Target variable"
      ],
      "metadata": {
        "id": "md_FIvH2nfQ1"
      },
      "execution_count": 19,
      "outputs": []
    },
    {
      "cell_type": "code",
      "source": [
        "X_train, X_test, y_train, y_test = train_test_split(X, y, test_size=0.3, random_state=1) # 70% training and 30% test"
      ],
      "metadata": {
        "id": "UfXAyGJHnkJX"
      },
      "execution_count": 20,
      "outputs": []
    },
    {
      "cell_type": "markdown",
      "source": [
        "## 2.3. Tạo model và huấn luyện"
      ],
      "metadata": {
        "id": "Jh5sgTu6Eh_B"
      }
    },
    {
      "cell_type": "code",
      "source": [
        "model = GaussianNB()\n",
        "model.fit(X_train, y_train)"
      ],
      "metadata": {
        "colab": {
          "base_uri": "https://localhost:8080/",
          "height": 75
        },
        "id": "FV3w-E4gEfz5",
        "outputId": "c83d9954-f5ee-445c-bac4-d9187944efe5"
      },
      "execution_count": 21,
      "outputs": [
        {
          "output_type": "execute_result",
          "data": {
            "text/plain": [
              "GaussianNB()"
            ],
            "text/html": [
              "<style>#sk-container-id-2 {color: black;background-color: white;}#sk-container-id-2 pre{padding: 0;}#sk-container-id-2 div.sk-toggleable {background-color: white;}#sk-container-id-2 label.sk-toggleable__label {cursor: pointer;display: block;width: 100%;margin-bottom: 0;padding: 0.3em;box-sizing: border-box;text-align: center;}#sk-container-id-2 label.sk-toggleable__label-arrow:before {content: \"▸\";float: left;margin-right: 0.25em;color: #696969;}#sk-container-id-2 label.sk-toggleable__label-arrow:hover:before {color: black;}#sk-container-id-2 div.sk-estimator:hover label.sk-toggleable__label-arrow:before {color: black;}#sk-container-id-2 div.sk-toggleable__content {max-height: 0;max-width: 0;overflow: hidden;text-align: left;background-color: #f0f8ff;}#sk-container-id-2 div.sk-toggleable__content pre {margin: 0.2em;color: black;border-radius: 0.25em;background-color: #f0f8ff;}#sk-container-id-2 input.sk-toggleable__control:checked~div.sk-toggleable__content {max-height: 200px;max-width: 100%;overflow: auto;}#sk-container-id-2 input.sk-toggleable__control:checked~label.sk-toggleable__label-arrow:before {content: \"▾\";}#sk-container-id-2 div.sk-estimator input.sk-toggleable__control:checked~label.sk-toggleable__label {background-color: #d4ebff;}#sk-container-id-2 div.sk-label input.sk-toggleable__control:checked~label.sk-toggleable__label {background-color: #d4ebff;}#sk-container-id-2 input.sk-hidden--visually {border: 0;clip: rect(1px 1px 1px 1px);clip: rect(1px, 1px, 1px, 1px);height: 1px;margin: -1px;overflow: hidden;padding: 0;position: absolute;width: 1px;}#sk-container-id-2 div.sk-estimator {font-family: monospace;background-color: #f0f8ff;border: 1px dotted black;border-radius: 0.25em;box-sizing: border-box;margin-bottom: 0.5em;}#sk-container-id-2 div.sk-estimator:hover {background-color: #d4ebff;}#sk-container-id-2 div.sk-parallel-item::after {content: \"\";width: 100%;border-bottom: 1px solid gray;flex-grow: 1;}#sk-container-id-2 div.sk-label:hover label.sk-toggleable__label {background-color: #d4ebff;}#sk-container-id-2 div.sk-serial::before {content: \"\";position: absolute;border-left: 1px solid gray;box-sizing: border-box;top: 0;bottom: 0;left: 50%;z-index: 0;}#sk-container-id-2 div.sk-serial {display: flex;flex-direction: column;align-items: center;background-color: white;padding-right: 0.2em;padding-left: 0.2em;position: relative;}#sk-container-id-2 div.sk-item {position: relative;z-index: 1;}#sk-container-id-2 div.sk-parallel {display: flex;align-items: stretch;justify-content: center;background-color: white;position: relative;}#sk-container-id-2 div.sk-item::before, #sk-container-id-2 div.sk-parallel-item::before {content: \"\";position: absolute;border-left: 1px solid gray;box-sizing: border-box;top: 0;bottom: 0;left: 50%;z-index: -1;}#sk-container-id-2 div.sk-parallel-item {display: flex;flex-direction: column;z-index: 1;position: relative;background-color: white;}#sk-container-id-2 div.sk-parallel-item:first-child::after {align-self: flex-end;width: 50%;}#sk-container-id-2 div.sk-parallel-item:last-child::after {align-self: flex-start;width: 50%;}#sk-container-id-2 div.sk-parallel-item:only-child::after {width: 0;}#sk-container-id-2 div.sk-dashed-wrapped {border: 1px dashed gray;margin: 0 0.4em 0.5em 0.4em;box-sizing: border-box;padding-bottom: 0.4em;background-color: white;}#sk-container-id-2 div.sk-label label {font-family: monospace;font-weight: bold;display: inline-block;line-height: 1.2em;}#sk-container-id-2 div.sk-label-container {text-align: center;}#sk-container-id-2 div.sk-container {/* jupyter's `normalize.less` sets `[hidden] { display: none; }` but bootstrap.min.css set `[hidden] { display: none !important; }` so we also need the `!important` here to be able to override the default hidden behavior on the sphinx rendered scikit-learn.org. See: https://github.com/scikit-learn/scikit-learn/issues/21755 */display: inline-block !important;position: relative;}#sk-container-id-2 div.sk-text-repr-fallback {display: none;}</style><div id=\"sk-container-id-2\" class=\"sk-top-container\"><div class=\"sk-text-repr-fallback\"><pre>GaussianNB()</pre><b>In a Jupyter environment, please rerun this cell to show the HTML representation or trust the notebook. <br />On GitHub, the HTML representation is unable to render, please try loading this page with nbviewer.org.</b></div><div class=\"sk-container\" hidden><div class=\"sk-item\"><div class=\"sk-estimator sk-toggleable\"><input class=\"sk-toggleable__control sk-hidden--visually\" id=\"sk-estimator-id-2\" type=\"checkbox\" checked><label for=\"sk-estimator-id-2\" class=\"sk-toggleable__label sk-toggleable__label-arrow\">GaussianNB</label><div class=\"sk-toggleable__content\"><pre>GaussianNB()</pre></div></div></div></div></div>"
            ]
          },
          "metadata": {},
          "execution_count": 21
        }
      ]
    },
    {
      "cell_type": "markdown",
      "source": [
        "## 2.4. Đánh giá"
      ],
      "metadata": {
        "id": "5viltE1pFG4i"
      }
    },
    {
      "cell_type": "code",
      "source": [
        "y_pred = model.predict(X_test)\n",
        "\n",
        "print(\"Accuracy:\", metrics.accuracy_score(y_test, y_pred))"
      ],
      "metadata": {
        "colab": {
          "base_uri": "https://localhost:8080/"
        },
        "id": "Fl7qwp0OFGmd",
        "outputId": "5602a718-a344-4722-ce22-408f619019ef"
      },
      "execution_count": 22,
      "outputs": [
        {
          "output_type": "stream",
          "name": "stdout",
          "text": [
            "Accuracy: 0.7748917748917749\n"
          ]
        }
      ]
    }
  ]
}